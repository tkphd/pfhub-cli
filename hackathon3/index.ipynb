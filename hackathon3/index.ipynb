{
 "cells": [
  {
   "cell_type": "code",
   "execution_count": 1,
   "metadata": {
    "collapsed": false
   },
   "outputs": [
    {
     "data": {
      "text/html": [
       "<script>\n",
       "code_show=true; \n",
       "function code_toggle() {\n",
       " if (code_show){\n",
       " $('div.input').hide();\n",
       " $('div.prompt').hide();\n",
       " } else {\n",
       " $('div.input').show();\n",
       "$('div.prompt').show();\n",
       " }\n",
       " code_show = !code_show\n",
       "} \n",
       "$( document ).ready(code_toggle);\n",
       "</script>\n",
       "<form action=\"javascript:code_toggle()\"><input type=\"submit\" value=\"Code Toggle\"></form>"
      ],
      "text/plain": [
       "<IPython.core.display.HTML object>"
      ]
     },
     "execution_count": 1,
     "metadata": {},
     "output_type": "execute_result"
    }
   ],
   "source": [
    "from IPython.display import HTML\n",
    "\n",
    "HTML('''<script>\n",
    "code_show=true; \n",
    "function code_toggle() {\n",
    " if (code_show){\n",
    " $('div.input').hide();\n",
    " $('div.prompt').hide();\n",
    " } else {\n",
    " $('div.input').show();\n",
    "$('div.prompt').show();\n",
    " }\n",
    " code_show = !code_show\n",
    "} \n",
    "$( document ).ready(code_toggle);\n",
    "</script>\n",
    "<form action=\"javascript:code_toggle()\"><input type=\"submit\" value=\"Code Toggle\"></form>''')"
   ]
  },
  {
   "cell_type": "markdown",
   "metadata": {
    "slideshow": {
     "slide_type": "slide"
    }
   },
   "source": [
    "# Hackathon 3\n",
    "\n",
    "** January 18-20, 2017 &ndash; Northwestern University **\n",
    "\n",
    "## Install-A-Thon\n",
    "\n",
    "We’ll be having an Install-A-Thon (January 18), an eight-hour block in which a each person/group will go through the process of installing another group’s phase field software.  If you successfully manage to install the software, you will be asked to use it to attempt to simulate a simple phase field problem. Note that the purpose of the exercise is just to see what is entailed in downloading, installing, and trying to use the code – whether you manage to finish the simulation or not is not so important. The next day, each group will report on their experiences, in terms of ease or difficulty, platform compatibility, available documentation, installation of library dependencies, learning curve to using the software, etc. \n",
    " \n",
    "## Benchmark Presentations\n",
    "\n",
    "We will have a section in which each group presents their results using the first set of benchmark problems (January 19) on spinodal decomposition and Ostwald ripening (see the website, https://usnistgov.github.io/chimad-phase-field/, and the paper, http://dx.doi.org/10.1016/j.commatsci.2016.09.022, for more information).  Please include as much metadata as possible, such as the computing platform, maximum memory usage, and runtime to whatever time you choose to halt the simulation (please include details regarding that criterion).  Please generate microstructure images at the specified times and total free energy plots for most (hopefully all) of the computational domains and boundary conditions.  We would like you to contribute your simulation data, input files, and results to ChiMaD website.  We encourage you to brainstorm ways of using the benchmark problems that are unique to your own software and present that information if so.\n",
    "\n",
    "## Method of Manufactured Solutions Tutorial\n",
    "\n",
    " The workshop will end with a tutorial and a training section on using the Method of Manufactured Solutions (MMS) (January 20), where the attendees will have a chance to try their – or anybody else’s – software on an MMS problem. "
   ]
  },
  {
   "cell_type": "code",
   "execution_count": null,
   "metadata": {
    "collapsed": true
   },
   "outputs": [],
   "source": []
  }
 ],
 "metadata": {
  "anaconda-cloud": {},
  "kernelspec": {
   "display_name": "Python [conda root]",
   "language": "python",
   "name": "conda-root-py"
  },
  "language_info": {
   "codemirror_mode": {
    "name": "ipython",
    "version": 3
   },
   "file_extension": ".py",
   "mimetype": "text/x-python",
   "name": "python",
   "nbconvert_exporter": "python",
   "pygments_lexer": "ipython3",
   "version": "3.5.2"
  }
 },
 "nbformat": 4,
 "nbformat_minor": 0
}
