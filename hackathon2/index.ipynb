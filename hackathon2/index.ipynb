{
 "cells": [
  {
   "cell_type": "markdown",
   "metadata": {},
   "source": [
    "# Hackathon 2\n",
    "\n",
    "** May 3, 2016 -- Northwestern University **\n",
    "\n",
    "## Etherpad\n",
    "\n",
    "If you are participating in the hackathon, please add your name and affiliation to the Etherpad below or go to https://public.etherpad-mozilla.org/p/chimad-phase-field-hackathon-2.\n",
    "\n",
    "## Chat\n",
    "\n",
    "Chat at https://gitter.im/usnistgov/chimad-phase-field. A Github account is required.\n",
    "\n",
    "## Note from the organizer\n",
    "\n",
    "First of all, on behalf of CHiMaD and the organizers of the hackathon, let me thank you all for agreeing to come to CHiMaD and Northwestern University to participate in the Hackathon. The feedback we get from the participants is really invaluable for developing the phase field benchmark problems; we hope that this event is also fun and useful for you as well.\n",
    "\n",
    "We thought we should give you some heads-up regarding the nature of the problems at this Hackathon. There will be two sets of phase field problems. One set involves solidification/dendritic growth, and the other set involves linear elasticity in 3D."
   ]
  },
  {
   "cell_type": "code",
   "execution_count": 6,
   "metadata": {
    "collapsed": false
   },
   "outputs": [
    {
     "data": {
      "text/html": [
       "\n",
       "        <iframe\n",
       "            width=\"600\"\n",
       "            height=\"600\"\n",
       "            src=\"https://public.etherpad-mozilla.org/p/chimad-phase-field-hackathon-2?showControls=true&showChat=true&showLineNumbers=true&useMonospaceFont=false?name=embed_readwrite\"\n",
       "            frameborder=\"0\"\n",
       "            allowfullscreen\n",
       "        ></iframe>\n",
       "        "
      ],
      "text/plain": [
       "<IPython.lib.display.IFrame at 0x7f3fb03f2310>"
      ]
     },
     "execution_count": 6,
     "metadata": {},
     "output_type": "execute_result"
    }
   ],
   "source": [
    "from IPython.display import IFrame\n",
    "IFrame(\"https://public.etherpad-mozilla.org/p/chimad-phase-field-hackathon-2?showControls=true&showChat=true&showLineNumbers=true&useMonospaceFont=false\",\n",
    "       name=\"embed_readwrite\", width=600, height=600)"
   ]
  },
  {
   "cell_type": "code",
   "execution_count": null,
   "metadata": {
    "collapsed": true
   },
   "outputs": [],
   "source": []
  }
 ],
 "metadata": {
  "kernelspec": {
   "display_name": "Python 2",
   "language": "python",
   "name": "python2"
  },
  "language_info": {
   "codemirror_mode": {
    "name": "ipython",
    "version": 2
   },
   "file_extension": ".py",
   "mimetype": "text/x-python",
   "name": "python",
   "nbconvert_exporter": "python",
   "pygments_lexer": "ipython2",
   "version": "2.7.11"
  }
 },
 "nbformat": 4,
 "nbformat_minor": 0
}
