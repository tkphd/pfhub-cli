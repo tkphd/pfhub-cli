{
 "cells": [
  {
   "cell_type": "code",
   "execution_count": 1,
   "metadata": {
    "collapsed": false
   },
   "outputs": [
    {
     "data": {
      "text/html": [
       "<script>\n",
       "code_show=true; \n",
       "function code_toggle() {\n",
       " if (code_show){\n",
       " $('div.input').hide();\n",
       " $('div.prompt').hide();\n",
       " } else {\n",
       " $('div.input').show();\n",
       "$('div.prompt').show();\n",
       " }\n",
       " code_show = !code_show\n",
       "} \n",
       "$( document ).ready(code_toggle);\n",
       "</script>\n",
       "<form action=\"javascript:code_toggle()\"><input type=\"submit\" value=\"Code Toggle\"></form>"
      ],
      "text/plain": [
       "<IPython.core.display.HTML object>"
      ]
     },
     "execution_count": 1,
     "metadata": {},
     "output_type": "execute_result"
    }
   ],
   "source": [
    "from IPython.display import HTML\n",
    "\n",
    "HTML('''<script>\n",
    "code_show=true; \n",
    "function code_toggle() {\n",
    " if (code_show){\n",
    " $('div.input').hide();\n",
    " $('div.prompt').hide();\n",
    " } else {\n",
    " $('div.input').show();\n",
    "$('div.prompt').show();\n",
    " }\n",
    " code_show = !code_show\n",
    "} \n",
    "$( document ).ready(code_toggle);\n",
    "</script>\n",
    "<form action=\"javascript:code_toggle()\"><input type=\"submit\" value=\"Code Toggle\"></form>''')"
   ]
  },
  {
   "cell_type": "markdown",
   "metadata": {
    "slideshow": {
     "slide_type": "slide"
    }
   },
   "source": [
    "# Hackathon 2\n",
    "\n",
    "** May 3, 2016 -- Northwestern University **\n",
    "\n",
    "<img src=\"../../images/hackathon2_photo.jpg\" alt=\"\">\n",
    "\n",
    "## Note from the organizer\n",
    "\n",
    "CHiMaD hosted the second Phase Field Methods Hackathon on May 3, 2016, in connection with its [Phase Field Methods Workshop III]({{ site.baseurl }}/workshops/) on May 4 - 5, 2016. The motivation for the hackathon comes from one of CHiMaD’s missions: to develop community standards for phase field modeling in materials science, and to distribute community codes for phase field modeling. As part of this mission, CHiMaD is working on developing and distributing a set of standard problems for phase field modeling, analogous to how the micromagnetic community developed a set of [standard problems for micromagnetic modeling](http://www.ctcms.nist.gov/~rdm/mumag.org.html). A [first hackathon]({{ site.baseurl }}/hackathon1/) was held on October 14 – 15, 2015, with problem sets focusing on Cahn-Hilliard and coupled Allen-Cahn/Cahn-Hilliard problems. This second Hackthon will explore other canonical problems central to phase-field type modeling of materials.\n",
    "\n",
    "Teams consisting of two students or postdocs were given the set of problems. They contain two kinds of phase field modeling, and each set contains sub-problems of increasing difficulty. The problems are completely defined in terms of initial conditions, geometry, and material parameters. The teams will have internet access and will be tasked with attempting to solve the problems within 24 hours using whatever numerical codes they have at their disposition - there will be no codes provided at the hackathon. All attendees are expected to bring their own laptops and connect to the servers they regularly use for running their codes.\n",
    "\n",
    "The goal of the hackathon is to see how different codes and different approaches can handle the problems with respect to accuracy and speed, and also to serve as a test bed for the development of standard problems. The aim of the hackathon is not to produce winners or losers, but to advance our understanding of phase field modeling: in that context, all results or attempts at solving the problems will be valuable. Each team will be required to present their results at the Phase Field Workshop on the morning of May 4."
   ]
  },
  {
   "cell_type": "markdown",
   "metadata": {},
   "source": [
    "## Hackathon Challange Problems and Solutions\n",
    "\n",
    "### Challange Problems\n",
    "\n",
    "  * [Problem 1: Dendritic Growth in 2D](../problem1.ipynb)\n",
    "  * [Problem 2: Linear Elasticity in 3D](../problem2.ipynb)"
   ]
  },
  {
   "cell_type": "markdown",
   "metadata": {
    "collapsed": true
   },
   "source": [
    "### Solutions\n",
    "\n",
    " Solutions:\n",
    "  * [FiPy](https://github.com/usnistgov/PhaseFieldHackathon-FiPy)\n",
    "  * [Moose](https://github.com/kcpitike/Hackathon-2)"
   ]
  },
  {
   "cell_type": "code",
   "execution_count": null,
   "metadata": {
    "collapsed": true
   },
   "outputs": [],
   "source": []
  }
 ],
 "metadata": {
  "anaconda-cloud": {},
  "kernelspec": {
   "display_name": "Python [conda root]",
   "language": "python",
   "name": "conda-root-py"
  },
  "language_info": {
   "codemirror_mode": {
    "name": "ipython",
    "version": 3
   },
   "file_extension": ".py",
   "mimetype": "text/x-python",
   "name": "python",
   "nbconvert_exporter": "python",
   "pygments_lexer": "ipython3",
   "version": "3.5.2"
  }
 },
 "nbformat": 4,
 "nbformat_minor": 0
}
