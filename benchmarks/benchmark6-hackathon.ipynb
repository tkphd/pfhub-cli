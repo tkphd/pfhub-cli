{
 "cells": [
  {
   "cell_type": "code",
   "execution_count": 1,
   "metadata": {},
   "outputs": [
    {
     "data": {
      "text/html": [
       "<script>\n",
       "code_show=true; \n",
       "function code_toggle() {\n",
       " if (code_show){\n",
       " $('div.input').hide();\n",
       " $('div.prompt').hide();\n",
       " } else {\n",
       " $('div.input').show();\n",
       "$('div.prompt').show();\n",
       " }\n",
       " code_show = !code_show\n",
       "} \n",
       "$( document ).ready(code_toggle);\n",
       "</script>\n",
       "<form action=\"javascript:code_toggle()\"><input type=\"submit\" value=\"Code Toggle\"></form>"
      ],
      "text/plain": [
       "<IPython.core.display.HTML object>"
      ]
     },
     "execution_count": 1,
     "metadata": {},
     "output_type": "execute_result"
    }
   ],
   "source": [
    "from IPython.display import HTML\n",
    "\n",
    "HTML('''<script>\n",
    "code_show=true; \n",
    "function code_toggle() {\n",
    " if (code_show){\n",
    " $('div.input').hide();\n",
    " $('div.prompt').hide();\n",
    " } else {\n",
    " $('div.input').show();\n",
    "$('div.prompt').show();\n",
    " }\n",
    " code_show = !code_show\n",
    "} \n",
    "$( document ).ready(code_toggle);\n",
    "</script>\n",
    "<form action=\"javascript:code_toggle()\"><input type=\"submit\" value=\"Code Toggle\"></form>''')"
   ]
  },
  {
   "cell_type": "code",
   "execution_count": 1,
   "metadata": {},
   "outputs": [
    {
     "data": {
      "application/javascript": [
       "    MathJax.Hub.Config({\n",
       "      TeX: { equationNumbers: { autoNumber: \"AMS\" } }\n",
       "    });"
      ],
      "text/plain": [
       "<IPython.core.display.Javascript object>"
      ]
     },
     "metadata": {},
     "output_type": "display_data"
    }
   ],
   "source": [
    "%%javascript\n",
    "    MathJax.Hub.Config({\n",
    "      TeX: { equationNumbers: { autoNumber: \"AMS\" } }\n",
    "    });"
   ]
  },
  {
   "cell_type": "code",
   "execution_count": 2,
   "metadata": {},
   "outputs": [
    {
     "data": {
      "text/html": [
       "\n",
       "<a href=\"https://raw.githubusercontent.com/{{ site.links.repo }}/master/benchmarks/benchmark6-hackathon.ipynb\"\n",
       "   download=\"benchmark6-hackathon.ipynb\">\n",
       "<button type=\"submit\">Download Notebook</button>\n",
       "</a>"
      ],
      "text/plain": [
       "<IPython.core.display.HTML object>"
      ]
     },
     "execution_count": 2,
     "metadata": {},
     "output_type": "execute_result"
    }
   ],
   "source": [
    "from IPython.display import HTML\n",
    "\n",
    "HTML('''\n",
    "<a href=\"https://raw.githubusercontent.com/{{ site.links.repo }}/master/benchmarks/benchmark6-hackathon.ipynb\"\n",
    "   download=\"benchmark6-hackathon.ipynb\">\n",
    "<button type=\"submit\">Download Notebook</button>\n",
    "</a>''')"
   ]
  },
  {
   "cell_type": "markdown",
   "metadata": {},
   "source": [
    "# Benchmark Problem 6: Electrostatics"
   ]
  },
  {
   "cell_type": "code",
   "execution_count": 3,
   "metadata": {},
   "outputs": [
    {
     "data": {
      "text/html": [
       "{% include jupyter_benchmark_table.html num=\"[6]\" revision=0 %}"
      ],
      "text/plain": [
       "<IPython.core.display.HTML object>"
      ]
     },
     "execution_count": 3,
     "metadata": {},
     "output_type": "execute_result"
    }
   ],
   "source": [
    "from IPython.display import HTML\n",
    "\n",
    "HTML('''{% include jupyter_benchmark_table.html num=\"[6]\" revision=0 %}''')"
   ]
  },
  {
   "cell_type": "markdown",
   "metadata": {},
   "source": [
    "See the Overleaf document entitled [\"Phase Field Benchmark Problems for Dendritic Growth and Linear Elasticity\"][overleaf] for more details about the benchmark problems. Furthermore, read [the extended essay][benchmarks] for a discussion about the need for benchmark problems.\n",
    "\n",
    "[benchmarks]: ../ \n",
    "[overleaf]: https://www.overleaf.com/read/nqjkdwyybvdz"
   ]
  },
  {
   "cell_type": "markdown",
   "metadata": {},
   "source": [
    "# Overview\n",
    "\n",
    "Diffusion of a charged species is often modeled with the phase field approach, such as for  batteries, electrodeposition, and electromigration.  This benchmark problem incorporates the first benchmark problem for spinodal decomposition [Jokisaari 2017][jokisaari2017benchmark] and extends it to incorporate coupling with electrostatics.\n",
    "\n",
    "## Governing Equations\n",
    "\n",
    "In this problem, two variables are used: $c$, the concentration field of our charged species, and $\\Phi$, the electric potential field.  The free energy of the system is given as\n",
    "\n",
    "\\begin{equation}\n",
    "F=\\int_{V} \\left[\\frac{\\kappa}{2} |\\nabla c|^2+f_{chem}(c)+f_{elec}(c,\\Phi)\\right]\\,dV,\n",
    "\\end{equation}\n",
    "\n",
    "where $\\kappa$ is the gradient energy coefficient, $f_{chem}$ is the chemical free energy, and $f_{elec}$ is the electrostatic coupling energy.  Here, $f_{chem}$ is a symmetric double-well function with minima between $0<c<1$,\n",
    "\n",
    "\\begin{equation}\n",
    "f_{chem} = \\rho (c-c^{\\alpha})^2(c^{\\beta}-c)^2, \n",
    "\\end{equation}\n",
    "\n",
    "where $\\rho$ controls the height of the double-well and $c^{\\alpha}$ and $c^{\\beta}$ are the compositions at which the energy is minimum.  In addition, the electrostatic coupling energy is given as\n",
    "\n",
    "\\begin{equation}\n",
    "f_{elec}=\\frac{k\\, c \\, \\Phi}{2},\n",
    "\\end{equation}\n",
    "\n",
    "where $k$ is a constant.\n",
    "\n",
    "The time evolution of the system is described by the Cahn-Hilliard equation with the additional constraint that the Poisson equation must be satisfied at every point in the system at each time step ([Guyer 2004a][guyer2004phase], [Guyer 2004b][guyer2004phaseII]).  To avoid a lengthy derivation, we simply present the equations below and suggest the readers study the given references.  The Cahn-Hillard equation is given as\n",
    "\n",
    "\\begin{equation}\n",
    "\\frac{\\partial c}{\\partial t} = \\nabla \\cdot \\left\\lbrace M \\nabla \\left( 2 \\rho(c-c^{\\alpha})(c^{\\beta}-c)(c^{\\alpha}+c^{\\beta}-2c) -\\kappa \\nabla^2 c + k \\, \\Phi \\right) \\right\\rbrace, \n",
    "\\end{equation}\n",
    "\n",
    "where $M$ is the mobility. The dynamics of electric relaxation occur at a much faster time scale than the diffusion of the charged species.  In this case, the Poisson equation is solved at each time step,\n",
    "\n",
    "\\begin{equation}\n",
    "\\nabla^2 \\Phi = \\frac{-k\\, c}{\\epsilon}, \n",
    "\\end{equation}\n",
    "\n",
    "where $\\epsilon$ is the permittivity.\n",
    "\n",
    "As in the [spinodal benchmark problem]({{ site.baseurl }}/benchmarks/benchmark1.ipynb), $c^{\\alpha}=0.3$, $c^{\\beta}=0.7$, $\\kappa=2$, $\\rho=5$, and $M=5$.  In addition, $k=0.09$ and $\\epsilon=90$.\n",
    "\n",
    "## Domain\n",
    "\n",
    "In this problem, the system consists of a domain which is grounded on one side and with a voltage applied on the other.  Two different 2D computational domains are given, shown below (the boundary conditions for $\\Phi$ are schematically illustrated).  The first consists of a square domain, while the second consists of a half-circle with a radius of 50 units and centered at (50, 50), which is attached to a rectangle of 50 units wide by 100 units tall.  The curved boundary is the right-hand boundary, while the straight domain edges from (0, 0) to (50, 0) and (0, 100) to (50, 100) are the bottom and top boundaries, respectively. Schematic illustrations of the 2D computational domains and boundary conditions of $\\Phi$ (indicated by hatching) for the electrochemical benchmark problem are shown in Figures 1 and 2.\n",
    "\n",
    "### Figure 1: Domain (a)\n",
    "\n",
    "![domaina](../../images/electrochem_domain.png)\n",
    "\n",
    "### Figure 2: Domain (b)\n",
    "\n",
    "![domainb](../../images/electrochem_domain_curved2.png)\n",
    "\n",
    "\n",
    "## Boundary Conditions\n",
    "\n",
    "We impose no-flux boundary conditions on all boundaries, while $\\Phi=0$ for the left boundary, $\\nabla \\Phi \\cdot \\hat{\\textbf{n}}=0$ for the top and bottom boundaries,  and the right boundary is given by\n",
    "\n",
    "\\begin{equation}\n",
    "\\Phi(x|_{boundary},y) = \\sin(y/7),\n",
    "\\end{equation}\n",
    "\n",
    "where $x|_{boundary}=100$ for domain (a), and varies from 50 to 100 in domain (b).\n",
    "The initial condition for $c$ is specified by \n",
    "\n",
    "\\begin{eqnarray}\n",
    "c\\left(x,y\\right) & = & c_{0}+c_{1}\\left\\{\\cos\\left(0.2x\\right)\\cos\\left(0.11y\\right)+\\left[\\cos\\left(0.13x\\right)\\cos\\left(0.087y\\right)\\right]^{2}\\right. \\\\\n",
    " &  & \\left.+\\cos\\left(0.025x-0.15y\\right)\\cos\\left(0.07x-0.02y\\right)\\right\\},\n",
    "\\end{eqnarray}\n",
    "\n",
    "where $c_{0}=0.5$ and $c_{1}=0.04$ (you may recognize this as the initial conditions for the [spinodal decomposition benchmark]({{ site.baseurl }}/benchmarks/benchmark1.ipynb) problem with a slightly different parameterization). \n",
    "\n",
    "# Submission Guidelines\n",
    "\n",
    "Both variations (a) and (b) should be run for 400 time units. The following data should be collected from each simulation,\n",
    "\n",
    " - the free energy integrated across the entire domain, $F$, collected as frequently as is feasible.\n",
    "\n",
    " - the $c$ and $\\Phi$ at $t=400$ along the $x=50$ cut plane\n",
    "\n",
    " - the $c$ and $\\Phi$ at $t=400$ along the $y=50$ cut plane\n",
    "\n",
    "Thus each submission requires three data files for each variation,\n",
    "\n",
    " - a CSV or JSON upload labeled as `free_energy` with column titles of `time` and `free_energy`\n",
    "\n",
    " - a CSV or JSON upload labeled as `x_cut_plane` with column titles of `y`, `concentration` and `potential`\n",
    "\n",
    " - a CSV or JSON upload labeled as `y_cut_plane` with column titles of `x`, `concentration` and `potential`\n",
    "\n",
    "Further data to upload can include images of $c$ and $\\Phi$ at different times or youtube videos of the evolution. These are not required, but will help others view your work.\n",
    "\n",
    "[jokisaari2017benchmark]: https://doi.org/10.1016/j.commatsci.2016.09.022\n",
    "[guyer2004phase]: https://doi.org/10.1103/PhysRevE.69.021603\n",
    "[guyer2004phaseII]: https://doi.org/10.1103/PhysRevE.69.021604"
   ]
  },
  {
   "cell_type": "code",
   "execution_count": null,
   "metadata": {
    "collapsed": true
   },
   "outputs": [],
   "source": []
  }
 ],
 "metadata": {
  "anaconda-cloud": {},
  "kernelspec": {
   "display_name": "Python 3",
   "language": "python",
   "name": "python3"
  },
  "language_info": {
   "codemirror_mode": {
    "name": "ipython",
    "version": 3
   },
   "file_extension": ".py",
   "mimetype": "text/x-python",
   "name": "python",
   "nbconvert_exporter": "python",
   "pygments_lexer": "ipython3",
   "version": "3.6.4"
  }
 },
 "nbformat": 4,
 "nbformat_minor": 2
}
