{
 "cells": [
  {
   "cell_type": "code",
   "execution_count": 11,
   "metadata": {
    "collapsed": false
   },
   "outputs": [
    {
     "data": {
      "text/html": [
       "<script>\n",
       "code_show=true; \n",
       "function code_toggle() {\n",
       " if (code_show){\n",
       " $('div.input').hide();\n",
       " $('div.prompt').hide();\n",
       " } else {\n",
       " $('div.input').show();\n",
       "$('div.prompt').show();\n",
       " }\n",
       " code_show = !code_show\n",
       "} \n",
       "$( document ).ready(code_toggle);\n",
       "</script>\n",
       "<form action=\"javascript:code_toggle()\"><input type=\"submit\" value=\"Code Toggle\"></form>"
      ],
      "text/plain": [
       "<IPython.core.display.HTML object>"
      ]
     },
     "execution_count": 11,
     "metadata": {},
     "output_type": "execute_result"
    }
   ],
   "source": [
    "from IPython.display import HTML\n",
    "\n",
    "HTML('''<script>\n",
    "code_show=true; \n",
    "function code_toggle() {\n",
    " if (code_show){\n",
    " $('div.input').hide();\n",
    " $('div.prompt').hide();\n",
    " } else {\n",
    " $('div.input').show();\n",
    "$('div.prompt').show();\n",
    " }\n",
    " code_show = !code_show\n",
    "} \n",
    "$( document ).ready(code_toggle);\n",
    "</script>\n",
    "<form action=\"javascript:code_toggle()\"><input type=\"submit\" value=\"Code Toggle\"></form>''')"
   ]
  },
  {
   "cell_type": "markdown",
   "metadata": {},
   "source": [
    "# Hackathon 1\n",
    "\n",
    "<img src=\"../images/PFII_Hackathon.JPG\">"
   ]
  },
  {
   "cell_type": "markdown",
   "metadata": {},
   "source": [
    "## Hackathon Challange Problems and Solutions\n",
    "\n",
    "* [Challange Problems](problems.ipynb)\n",
    "\t* [1. Spinodal Decomposition - Cahn-Hilliard](problems.ipynb/#1.-Spinodal-Decomposition---Cahn-Hilliard)\n",
    "\t* [2. Otswald Ripening -- coupled Cahn-Hilliard and Allen-Cahn equations](problems.iynb#2.-Otswald-Ripening----coupled-Cahn-Hilliard-and-Allen-Cahn-equations)\n",
    "* Solutions:\n",
    "  * [FiPy](fipy)\n",
    "\t* [1a. Periodic spinodal decomposition on a square domain](fipy/1a.ipynb)\n",
    "  * [MMSP](mmsp)\n"
   ]
  },
  {
   "cell_type": "markdown",
   "metadata": {},
   "source": [
    "## Overview\n",
    "\n",
    "CHiMaD hosted the first Phase Field Methods Hackathon on\n",
    "October 14, 2015. The motivation for the hackathon came\n",
    "from one of CHiMaD’s missions: to develop community\n",
    "standards for phase field modeling in materials science, and\n",
    "to distribute community codes for phase field modeling. As\n",
    "a first step along this mission, CHiMaD is working on devel-\n",
    "oping and distributing a set of standard problems for phase\n",
    "field modeling.\n",
    "\n",
    "## Format\n",
    "\n",
    "Teams consisting of two students or postdocs were\n",
    "given a set of problems consisting of two kinds of\n",
    "phase field modeling; each set contained sub-\n",
    "problems of increasing difficulty. The problems\n",
    "were (intended to be!) completely defined in terms\n",
    "of initial conditions, geometry, and material pa-\n",
    "rameters. The teams had 24 hours to solve the\n",
    "problems using whatever numerical codes they had\n",
    "at their disposition (with full access to the internet) - there were no codes provided at the hackathon.\n",
    "All attendees were expected to bring their own lap-\n",
    "tops and connect to the servers they regularly use\n",
    "for running their codes.\n",
    "\n",
    "## Conclusion\n",
    "\n",
    "The goal of the hackathon was to see how different\n",
    "codes and different approaches could handle the\n",
    "problems with respect to accuracy and speed. The\n",
    "aim of the hackathon was not to produce winners or\n",
    "losers, but to advance our understanding of phase\n",
    "field modeling: in that context, all results or at-\n",
    "tempts at solving the problems were valuable. In\n",
    "this first iteration, we learned the most about how to\n",
    "define the problems themselves to even be able to\n",
    "have a successful exercise.\n"
   ]
  }
 ],
 "metadata": {
  "kernelspec": {
   "display_name": "Python 2",
   "language": "python",
   "name": "python2"
  },
  "language_info": {
   "codemirror_mode": {
    "name": "ipython",
    "version": 2
   },
   "file_extension": ".py",
   "mimetype": "text/x-python",
   "name": "python",
   "nbconvert_exporter": "python",
   "pygments_lexer": "ipython2",
   "version": "2.7.11"
  }
 },
 "nbformat": 4,
 "nbformat_minor": 0
}
