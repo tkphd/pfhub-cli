{
 "cells": [
  {
   "cell_type": "markdown",
   "metadata": {},
   "source": [
    "# Hackathon 1"
   ]
  },
  {
   "cell_type": "markdown",
   "metadata": {},
   "source": [
    "For the first hackathon there are two challange problems, a spinodal decomposition problem and an Ostwald ripening problem. The only solutions included here currently are with FiPy."
   ]
  },
  {
   "cell_type": "markdown",
   "metadata": {},
   "source": [
    "# Table of Contents\n",
    "* [Hackathon 1](#Hackathon-1)\n",
    "* [Challange Problems](#Challange-Problems)\n",
    "\t* [1. Spinodal Decomposition - Cahn-Hilliard](#1.-Spinodal-Decomposition---Cahn-Hilliard)\n",
    "\t\t* [Parameter Values](#Parameter-Values)\n",
    "\t\t* [Initial Conditions](#Initial-Conditions)\n",
    "\t\t* [Domains](#Domains)\n",
    "\t\t\t* [a. Square Periodic](#a.-Square-Periodic)\n",
    "\t\t\t* [b. No Flux](#b.-No-Flux)\n",
    "\t\t\t* [c. T-Shape No Flux](#c.-T-Shape-No-Flux)\n",
    "\t\t\t* [d. Sphere](#d.-Sphere)\n",
    "\t\t* [Tasks](#Tasks)\n",
    "\t* [2. Otswald Ripening -- coupled Cahn-Hilliard and Allen-Cahn equations](#2.-Otswald-Ripening----coupled-Cahn-Hilliard-and-Allen-Cahn-equations)\n",
    "\t\t* [Parameter Values](#Parameter-Values)\n",
    "\t\t* [Initial Conditions](#Initial-Conditions)\n",
    "\t\t* [Domains](#Domains)\n",
    "\t\t\t* [a. Square Periodic](#a.-Square-Periodic)\n",
    "\t\t\t* [b. No Flux](#b.-No-Flux)\n",
    "\t\t\t* [c. T-Shape No Flux](#c.-T-Shape-No-Flux)\n",
    "\t\t\t* [d. Sphere](#d.-Sphere)\n",
    "\t\t* [Tasks](#Tasks)\n",
    "* Solutions:\n",
    "  * [FiPy](fipy)\n",
    "\t* [1a. Periodic spinodal decomposition on a square domain](fipy/1a.ipynb)\n"
   ]
  },
  {
   "cell_type": "markdown",
   "metadata": {},
   "source": [
    "# Challange Problems"
   ]
  },
  {
   "cell_type": "markdown",
   "metadata": {},
   "source": [
    "## 1. Spinodal Decomposition - Cahn-Hilliard"
   ]
  },
  {
   "cell_type": "markdown",
   "metadata": {},
   "source": [
    "The free energy density is given by,\n",
    "\n",
    "$$ f = f_0 \\left[ c \\left( \\vec{r} \\right) \\right] + \\frac{\\kappa}{2} \\left| \\nabla c \\left( \\vec{r} \\right) \\right|^2 $$\n",
    "\n",
    "where $f_0$ is the bulk free energy density given by,\n",
    "\n",
    "$$ f_0\\left[ c \\left( \\vec{r} \\right) \\right] =\n",
    "   - \\frac{A}{2} \\left(c - c_m\\right)^2\n",
    "   + \\frac{B}{4} \\left(c - c_m\\right)^4\n",
    "   + \\frac{c_{\\alpha}}{4} \\left(c - c_{\\alpha} \\right)^4\n",
    "   + \\frac{c_{\\beta}}{4} \\left(c - c_{\\beta} \\right)^4 $$\n",
    "\n",
    "where $c_m = \\frac{1}{2} \\left( c_{\\alpha} + c_{\\beta} \\right)$ and $c_{\\alpha}$ and $c_{\\beta}$ are the concentrations at which the bulk free energy density has minima (corresponding to the solubilities in the matrix phase and the second phase, respectively).\n",
    "\n",
    "The time evolution of the concentration field, $c$, is given by the Cahn-Hilliard equation:\n",
    "\n",
    "$$ \\frac{\\partial c}{\\partial t} = \\nabla \\cdot  \\left[\n",
    "       D \\left( c \\right) \\nabla \\left( \\frac{ \\partial f_0 }{ \\partial c} - \\kappa \\nabla^2 c \\right)\n",
    "   \\right] $$\n",
    "\n",
    "where $D$ is the diffusivity."
   ]
  },
  {
   "cell_type": "markdown",
   "metadata": {},
   "source": [
    "### Parameter Values"
   ]
  },
  {
   "cell_type": "markdown",
   "metadata": {},
   "source": [
    "Use the following parameter values.\n",
    "\n",
    "<table width=\"200\">\n",
    "<tr>\n",
    "<td> $c_{\\alpha}$ </td>\n",
    "<td> 0.05 </td>\n",
    "</tr>\n",
    "<tr>\n",
    "<td> $c_{\\beta}$ </td>\n",
    "<td> 0.95 </td>\n",
    "</tr>\n",
    "<tr>\n",
    "<td> A </td>\n",
    "<td> 2.0 </td>\n",
    "</tr>\n",
    "<tr>\n",
    "<td> $\\kappa$ </td>\n",
    "<td> 2.0 </td>\n",
    "</tr>\n",
    "</table>\n",
    "\n",
    "with\n",
    "\n",
    "$$ B = \\frac{A}{\\left( c_{\\alpha} - c_m \\right)^2} $$\n",
    "\n",
    "$$ D = D_{\\alpha} = D_{\\beta} = \\frac{2}{c_{\\beta} - c_{\\alpha}} $$"
   ]
  },
  {
   "cell_type": "markdown",
   "metadata": {},
   "source": [
    "### Initial Conditions"
   ]
  },
  {
   "cell_type": "markdown",
   "metadata": {},
   "source": [
    "Set $c\\left(\\vec{r}, t\\right)$ such that\n",
    "\n",
    "$$ c\\left(\\vec{r}, 0\\right) = \\bar{c}_0 + \\epsilon \\cos \\left( \\vec{q} \\cdot \\vec{r} \\right) $$\n",
    "\n",
    "where\n",
    "\n",
    "<table width=\"200\">\n",
    "<tr>\n",
    "<td> $\\bar{c}_0$ </td>\n",
    "<td> 0.45 </td>\n",
    "</tr>\n",
    "<tr>\n",
    "<td> $\\vec{q}$ </td>\n",
    "<td> $\\left(\\sqrt{2},\\sqrt{3}\\right)$ </td>\n",
    "</tr>\n",
    "<tr>\n",
    "<td> $\\epsilon$ </td>\n",
    "<td> 0.01 </td>\n",
    "</tr>\n",
    "</table>"
   ]
  },
  {
   "cell_type": "markdown",
   "metadata": {},
   "source": [
    "### Domains"
   ]
  },
  {
   "cell_type": "markdown",
   "metadata": {},
   "source": [
    "#### a. Square Periodic"
   ]
  },
  {
   "cell_type": "markdown",
   "metadata": {},
   "source": [
    "2D square domain with $L_x = L_y = 200$ and periodic boundary conditions.\n",
    "\n",
    "<img src=\"../images/block1.svg\">"
   ]
  },
  {
   "cell_type": "markdown",
   "metadata": {},
   "source": [
    "#### b. No Flux"
   ]
  },
  {
   "cell_type": "markdown",
   "metadata": {},
   "source": [
    "2D square domain with $L_x = L_y = 200$ and zero flux boundary conditions."
   ]
  },
  {
   "cell_type": "markdown",
   "metadata": {},
   "source": [
    "#### c. T-Shape No Flux"
   ]
  },
  {
   "cell_type": "markdown",
   "metadata": {},
   "source": [
    "T-shaped reiong with zero flux boundary conditions with $a=b=100$ and $c=d=20.$\n",
    "\n",
    "<img src=\"../images/t-shape.svg\">"
   ]
  },
  {
   "cell_type": "markdown",
   "metadata": {},
   "source": [
    "#### d. Sphere"
   ]
  },
  {
   "cell_type": "markdown",
   "metadata": {},
   "source": [
    "Domain is the surface of a sphere with radius 100, but with initial conditions of\n",
    "\n",
    "$$ c\\left(\\theta, \\phi, 0\\right) = \\bar{c}_0 + \\epsilon \\cos \\left( \\sqrt{233} \\theta \\right)\n",
    "                                                        \\sin \\left( \\sqrt{239} \\phi \\right) $$\n",
    "\n",
    "where $\\theta$ and $\\phi$ are the polar and azimuthal angles in a spherical coordinate system. $\\bar{c}_0$ and $\\epsilon$ are given by the values in the table above."
   ]
  },
  {
   "cell_type": "markdown",
   "metadata": {},
   "source": [
    "### Tasks"
   ]
  },
  {
   "cell_type": "markdown",
   "metadata": {},
   "source": [
    "Your task for each domain,\n",
    "\n",
    " 1. Calculate the time evolution of the concentration -- store concentration at time steps to make a movie\n",
    "\n",
    " 2. Plot the free energy as a function of time steps until you judge that convergence or a local equilibrium has been reached.\n",
    "\n",
    " 3. Present wall clock time for the calculations, and wall clock time per core used in the calculation.\n",
    "\n",
    " 4. For domain a. above, demonstrate that the solution is robust with respect to meshing by refining the mesh (e.g. reduce the mesh size by about a factor of $\\sqrt{2}$ in linear dimensions -- use whatever convenient way you have to refine the mesh without exploding the computational time)."
   ]
  },
  {
   "cell_type": "markdown",
   "metadata": {
    "collapsed": true
   },
   "source": [
    "## 2. Otswald Ripening -- coupled Cahn-Hilliard and Allen-Cahn equations"
   ]
  },
  {
   "cell_type": "markdown",
   "metadata": {},
   "source": [
    "Expanded problem in that the phase field, described by variables $\\eta_i$, is now coupled to the concentration field $c$. The Ginzberg-Landau free energy density is now taken to be,\n",
    "\n",
    "$$ f = f_0 \\left[ C \\left( \\vec{r} \\right), \\eta_1, ... , \\eta_p \\right]\n",
    "+ \\frac{\\kappa_C}{2} \\left[ \\nabla  C \\left( \\vec{r} \\right) \\right]^2 +\n",
    "\\sum_{i=1}^p \\frac{\\kappa_C}{2} \\left[ \\nabla  \\eta_i \\left( \\vec{r} \\right) \\right]^2\n",
    "$$\n",
    "\n",
    "Here, $f_0$ is a bulk free energy density,\n",
    "\n",
    "$$ f_0 \\left[ C \\left( \\vec{r} \\right), \\eta_1, ... , \\eta_p \\right] \n",
    "= f_1 \\left( C \\right) + \\sum_{i=1}^p f_2 \\left( C, \\eta_i \\right)\n",
    "+ \\sum_{i=1}^p \\sum_{j\\ne i}^p f_3 \\left( \\eta_j, \\eta_i \\right) $$\n",
    "\n",
    "Here, $ f_1 \\left( C \\right) $ is the free energy density due to the concentration field, $C$, with local minima at $C_{\\alpha}$ and $C_{\\beta}$ corresponding to the solubilities in the matrix phase and the second phase, respectively; $f_2\\left(C , \\eta_i \\right)$ is an interaction term between the concentration field and the phase fields, and $f_3 \\left( \\eta_i, \\eta_j \\right)$ is the free energy density of the phase fields. Simple models for these free energy densities are,\n",
    "\n",
    "$$ f_1\\left( C \\right) =\n",
    "   - \\frac{A}{2} \\left(C - C_m\\right)^2\n",
    "   + \\frac{B}{4} \\left(C - C_m\\right)^4\n",
    "   + \\frac{D_{\\alpha}}{4} \\left(C - C_{\\alpha} \\right)^4\n",
    "   + \\frac{D_{\\beta}}{4} \\left(C - C_{\\beta} \\right)^4 $$\n",
    "\n",
    "where \n",
    "\n",
    "$$ C_m = \\frac{1}{2} \\left(C_{\\alpha} + C_{\\beta} \\right) $$\n",
    "\n",
    "and\n",
    "\n",
    "$$ f_2 \\left( C, \\eta_i \\right) = - \\frac{\\gamma}{2} \\left( C - C_{\\alpha} \\right)^2 \\eta_i^2 + \\frac{\\beta}{2} \\eta_i^4 $$\n",
    "\n",
    "where\n",
    "\n",
    "$$ f_3 \\left( \\eta_i, \\eta_j \\right) = \\frac{ \\epsilon_{ij} }{2} \\eta_i^2 \\eta_j^2, i \\ne j $$\n",
    "\n",
    "The time evolution of the system is now given by coupled Cahn-Hilliard and Allen-Cahn (time dependent Gizberg-Landau) equations for the conserved concentration field and the non-conserved phase fields:\n",
    "\n",
    "$$\n",
    "\\begin{eqnarray}\n",
    "\\frac{\\partial C}{\\partial t} &=& \\nabla \\cdot  \\left \\{\n",
    "       D \\nabla \\left[ \\frac{\\delta F}{\\delta C} \\right] \\right \\} \\\\\n",
    " &=& D \\left[ -A + 3 B \\left( C- C_m \\right)^2 + 3 D_{\\alpha} \\left( C - C_{\\alpha} \\right)^2 + 3 D_{\\beta} \\left( C - C_{\\beta} \\right)^2 \\right] \\nabla^2 C \\\\\n",
    "& & -D \\gamma \\sum_{i=1}^{p} \\left[ \\eta_i^2 \\nabla^2 C + 4 \\nabla C \\cdot \\nabla \\eta_i + 2 \\left( C - C_{\\alpha} \\right) \\nabla^2 \\eta_i \\right] - D \\kappa_C \\nabla^4 C\n",
    "\\end{eqnarray}\n",
    "$$\n",
    "\n",
    "and the phase field equations\n",
    "\n",
    "$$\n",
    "\\begin{eqnarray}\n",
    "\\frac{\\partial \\eta_i}{\\partial t} &=& - L_i \\frac{\\delta F}{\\delta \\eta_i} \\\\\n",
    "          &=& \\frac{\\partial f_2}{\\delta \\eta_i} + \\frac{\\partial f_3}{\\delta \\eta_i} - \\kappa_i \\nabla^2 \\eta_i \\left(\\vec{r}, t\\right) \\\\\n",
    "          &=& L_i \\gamma \\left( C - C_{\\alpha} \\right)^2 \\eta_i - L_i \\beta \\eta_i^3 - L_i \\eta_i \\sum_{j\\ne i}^{p} \\epsilon_{ij} \\eta^2_j + L_i \\kappa_i \\nabla^2 \\eta_i\n",
    "\\end{eqnarray}\n",
    "$$"
   ]
  },
  {
   "cell_type": "markdown",
   "metadata": {},
   "source": [
    "### Parameter Values"
   ]
  },
  {
   "cell_type": "markdown",
   "metadata": {},
   "source": [
    "Use the following parameter values.\n",
    "\n",
    "<table width=\"200\">\n",
    "<tr>\n",
    "<td> $C_{\\alpha}$ </td>\n",
    "<td> 0.05 </td>\n",
    "</tr>\n",
    "<tr>\n",
    "<td> $C_{\\beta}$ </td>\n",
    "<td> 0.95 </td>\n",
    "</tr>\n",
    "<tr>\n",
    "<td> A </td>\n",
    "<td> 2.0 </td>\n",
    "</tr>\n",
    "<tr>\n",
    "<td> $\\kappa_i$ </td>\n",
    "<td> 2.0 </td>\n",
    "</tr>\n",
    "<tr>\n",
    "<td> $\\kappa_j$ </td>\n",
    "<td> 2.0 </td>\n",
    "</tr>\n",
    "<tr>\n",
    "<td> $\\kappa_k$ </td>\n",
    "<td> 2.0 </td>\n",
    "</tr>\n",
    "<tr>\n",
    "<td> $\\epsilon_{ij}$ </td>\n",
    "<td> 3.0 </td>\n",
    "</tr>\n",
    "<tr>\n",
    "<td> $\\beta$ </td>\n",
    "<td> 1.0 </td>\n",
    "</tr>\n",
    "<tr>\n",
    "<td> $p$ </td>\n",
    "<td> 10 </td>\n",
    "</tr>\n",
    "</table>\n",
    "\n",
    "with\n",
    "\n",
    "$$ B = \\frac{A}{\\left( C_{\\alpha} - C_m \\right)^2} $$\n",
    "\n",
    "$$ \\gamma = \\frac{2}{\\left(C_{\\beta} - C_{\\alpha}\\right)^2} $$\n",
    "\n",
    "$$ D = D_{\\alpha} = D_{\\beta} = \\frac{\\gamma}{\\delta^2} $$\n",
    "\n",
    "The diffusion coefficient, $D$, is constant and isotropic and the same (unity) for both phases; the mobility-related constants, $L_i$, are the same (unity) for all phase fields."
   ]
  },
  {
   "cell_type": "markdown",
   "metadata": {},
   "source": [
    "### Initial Conditions"
   ]
  },
  {
   "cell_type": "markdown",
   "metadata": {},
   "source": [
    "Set $c\\left(\\vec{r}, t\\right)$ such that\n",
    "\n",
    "$$ \n",
    "\\begin{eqnarray}\n",
    "c\\left(\\vec{r}, 0\\right) &=& \\bar{c}_0 + \\epsilon \\cos \\left( \\vec{q} \\cdot \\vec{r} \\right) \\\\\n",
    "\\eta_i\\left(\\vec{r}, 0\\right) &=& \\bar{\\eta}_0 + 0.01 \\epsilon_i \\cos^2 \\left( \\vec{q} \\cdot \\vec{r} \\right)\n",
    "\\end{eqnarray}\n",
    "$$\n",
    "\n",
    "where\n",
    "\n",
    "<table width=\"200\">\n",
    "<tr>\n",
    "<td> $\\bar{c}_0$ </td>\n",
    "<td> 0.5 </td>\n",
    "</tr>\n",
    "<tr>\n",
    "<td> $\\vec{q}$ </td>\n",
    "<td> $\\left(\\sqrt{2},\\sqrt{3}\\right)$ </td>\n",
    "</tr>\n",
    "<tr>\n",
    "<td> $\\epsilon$ </td>\n",
    "<td> 0.01 </td>\n",
    "</tr>\n",
    "<tr>\n",
    "<td> $\\vec{q}_i$ </td>\n",
    "<td> $\\left( \\sqrt{23 + i}, \\sqrt{149 + i} \\right)$ </td>\n",
    "</tr>\n",
    "<tr>\n",
    "<td> $\\epsilon_i$ </td>\n",
    "<td> 0.979285, 0.219812,\t0.837709,\t0.695603, \t0.225115,\t\n",
    "0.389266, \t0.585953,\t0.614471, \t0.918038,\t0.518569 </td>\n",
    "</tr>\n",
    "<tr>\n",
    "<td> $\\eta_0$ </td>\n",
    "<td> 0.0 </td>\n",
    "</tr>\n",
    "</table>"
   ]
  },
  {
   "cell_type": "markdown",
   "metadata": {},
   "source": [
    "### Domains"
   ]
  },
  {
   "cell_type": "markdown",
   "metadata": {},
   "source": [
    "#### a. Square Periodic"
   ]
  },
  {
   "cell_type": "markdown",
   "metadata": {},
   "source": [
    "2D square domain with $L_x = L_y = 200$ and periodic boundary conditions.\n",
    "\n",
    "<img src=\"../images/block1.svg\">"
   ]
  },
  {
   "cell_type": "markdown",
   "metadata": {},
   "source": [
    "#### b. No Flux"
   ]
  },
  {
   "cell_type": "markdown",
   "metadata": {},
   "source": [
    "2D square domain with $L_x = L_y = 200$ and zero flux boundary conditions."
   ]
  },
  {
   "cell_type": "markdown",
   "metadata": {},
   "source": [
    "#### c. T-Shape No Flux"
   ]
  },
  {
   "cell_type": "markdown",
   "metadata": {},
   "source": [
    "T-shaped reiong with zero flux boundary conditions with $a=b=100$ and $c=d=20.$\n",
    "\n",
    "<img src=\"../images/t-shape.svg\">"
   ]
  },
  {
   "cell_type": "markdown",
   "metadata": {},
   "source": [
    "#### d. Sphere"
   ]
  },
  {
   "cell_type": "markdown",
   "metadata": {},
   "source": [
    "Domain is the surface of a sphere with radius 100, but with initial conditions of\n",
    "\n",
    "$$ c\\left(\\theta, \\phi, 0\\right) = \\bar{c}_0 + \\epsilon \\cos \\left( \\sqrt{233} \\theta \\right)\n",
    "                                                        \\sin \\left( \\sqrt{239} \\phi \\right) $$\n",
    "\n",
    "and\n",
    "\n",
    "$$ \\eta_i\\left(\\theta, \\phi, 0\\right) = \\bar{\\eta}_0 + 0.01 \\epsilon_i \\cos^2 \\left( \\sqrt{23 + i} \\theta \\right)\n",
    "                                                        \\sin^2 \\left( \\sqrt{149 + i} \\phi \\right) $$\n",
    "\n",
    "where $\\theta$ and $\\phi$ are the polar and azimuthal angles in a spherical coordinate system and parameter values are in the table above."
   ]
  },
  {
   "cell_type": "markdown",
   "metadata": {},
   "source": [
    "### Tasks"
   ]
  },
  {
   "cell_type": "markdown",
   "metadata": {},
   "source": [
    "Your task for each domain,\n",
    "\n",
    " 1. Calculate the time evolution of the concentration -- store concentration at time steps to make a movie\n",
    "\n",
    " 2. Plot the free energy as a function of time steps until you judge that convergence or a local equilibrium has been reached.\n",
    "\n",
    " 3. Present wall clock time for the calculations, and wall clock time per core used in the calculation."
   ]
  }
 ],
 "metadata": {
  "kernelspec": {
   "display_name": "Python 2",
   "language": "python",
   "name": "python2"
  },
  "language_info": {
   "codemirror_mode": {
    "name": "ipython",
    "version": 2
   },
   "file_extension": ".py",
   "mimetype": "text/x-python",
   "name": "python",
   "nbconvert_exporter": "python",
   "pygments_lexer": "ipython2",
   "version": "2.7.11"
  }
 },
 "nbformat": 4,
 "nbformat_minor": 0
}
