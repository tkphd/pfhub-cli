{
 "cells": [
  {
   "cell_type": "markdown",
   "metadata": {},
   "source": [
    "# FiPy Solutions\n",
    "\n",
    "The FiPy solutions to the hackathon challange problems\n",
    "\n",
    "* [1a. Periodic spinodal decomposition on a square domain](1a.ipynb/#1a.-Periodic-spinodal-decomposition-on-a-square-domain)\n",
    "\t* [Define $f_0$](1a.ipynb/#Define-$f_0$)\n",
    "\t* [Define the Equation](1a.ipynb/#Define-the-Equation)\n",
    "\t* [Solve the Equation](1a.ipynb/#Solve-the-Equation)\n",
    "\t* [Run the Example Locally](1a.ipynb/#Run-the-Example-Locally)\n",
    "\t* [Movie of Evolution](1a.ipynb/#Movie-of-Evolution)"
   ]
  },
  {
   "cell_type": "code",
   "execution_count": null,
   "metadata": {
    "collapsed": true
   },
   "outputs": [],
   "source": []
  }
 ],
 "metadata": {
  "kernelspec": {
   "display_name": "Python 2",
   "language": "python",
   "name": "python2"
  },
  "language_info": {
   "codemirror_mode": {
    "name": "ipython",
    "version": 2
   },
   "file_extension": ".py",
   "mimetype": "text/x-python",
   "name": "python",
   "nbconvert_exporter": "python",
   "pygments_lexer": "ipython2",
   "version": "2.7.11"
  }
 },
 "nbformat": 4,
 "nbformat_minor": 0
}
